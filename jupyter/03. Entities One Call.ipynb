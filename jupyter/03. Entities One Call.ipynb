{
 "cells": [
  {
   "cell_type": "code",
   "execution_count": null,
   "metadata": {},
   "outputs": [],
   "source": [
    "from azure.cognitiveservices.language.textanalytics import TextAnalyticsClient\n",
    "from msrest.authentication import CognitiveServicesCredentials\n",
    "from configparser import ConfigParser\n",
    "from configparser import ConfigParser"
   ]
  },
  {
   "cell_type": "code",
   "execution_count": null,
   "metadata": {},
   "outputs": [],
   "source": [
    "# Load configuration from config.ini\n",
    "config = ConfigParser()\n",
    "config.read('config.ini')"
   ]
  },
  {
   "cell_type": "code",
   "execution_count": null,
   "metadata": {},
   "outputs": [],
   "source": [
    "# Retrieve connection settings from config.ini\n",
    "access_key = config.get('text-analytics', 'access_key')\n",
    "endpoint = config.get('text-analytics', 'endpoint')"
   ]
  },
  {
   "cell_type": "code",
   "execution_count": null,
   "metadata": {},
   "outputs": [],
   "source": [
    "# Use access key as credential\n",
    "credentials = CognitiveServicesCredentials(access_key)\n",
    "\n",
    "# Authenticate Client\n",
    "text_analytics = TextAnalyticsClient(endpoint=endpoint, credentials=credentials)"
   ]
  },
  {
   "cell_type": "code",
   "execution_count": null,
   "metadata": {},
   "outputs": [],
   "source": [
    "# Sample document with text\n",
    "documents = [\n",
    "    {\n",
    "        \"id\": \"1\",\n",
    "        \"language\": \"en\",\n",
    "        \"text\": \"Microsoft was founded by Bill Gates and Paul Allen on April 4, 1975, to develop and sell BASIC interpreters for the Altair 8800.\"\n",
    "    }\n",
    "]"
   ]
  },
  {
   "cell_type": "code",
   "execution_count": null,
   "metadata": {},
   "outputs": [],
   "source": [
    "# Extract entities. \n",
    "# TODO: Add code here that calls Text Analytics and extracts entities\n",
    "\n",
    "\n",
    "\n"
   ]
  },
  {
   "cell_type": "code",
   "execution_count": null,
   "metadata": {},
   "outputs": [],
   "source": [
    "# Display the results\n",
    "for document in response.documents:\n",
    "    print(\"Document Id: \", document.id)\n",
    "    print(\"\\tKey Entities:\")\n",
    "    for entity in document.entities:\n",
    "        print(\"\\t\\t\", \"NAME: \", entity.name, \"\\tType: \",\n",
    "              entity.type, \"\\tSub-type: \", entity.sub_type)\n",
    "        for match in entity.matches:\n",
    "            print(\"\\t\\t\\tOffset: \", match.offset, \"\\tLength: \", match.length, \"\\tScore: \",\n",
    "                  \"{:.2f}\".format(match.entity_type_score))"
   ]
  }
 ],
 "metadata": {
  "kernelspec": {
   "display_name": "Python 3.6 - AzureML",
   "language": "python",
   "name": "python3-azureml"
  },
  "language_info": {
   "codemirror_mode": {
    "name": "ipython",
    "version": 3
   },
   "file_extension": ".py",
   "mimetype": "text/x-python",
   "name": "python",
   "nbconvert_exporter": "python",
   "pygments_lexer": "ipython3",
   "version": "3.6.2"
  }
 },
 "nbformat": 4,
 "nbformat_minor": 2
}
