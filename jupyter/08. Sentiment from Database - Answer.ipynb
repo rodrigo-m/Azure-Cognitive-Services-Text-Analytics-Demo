{
 "cells": [
  {
   "cell_type": "code",
   "execution_count": 1,
   "metadata": {},
   "outputs": [],
   "source": [
    "import pyodbc \n",
    "import pandas as pd\n",
    "import json\n",
    "\n",
    "# Cognitive Services Text Analytics SDK\n",
    "from azure.cognitiveservices.language.textanalytics import TextAnalyticsClient\n",
    "from msrest.authentication import CognitiveServicesCredentials\n",
    "from configparser import ConfigParser"
   ]
  },
  {
   "cell_type": "code",
   "execution_count": 2,
   "metadata": {},
   "outputs": [
    {
     "data": {
      "text/plain": [
       "['config.ini']"
      ]
     },
     "execution_count": 2,
     "metadata": {},
     "output_type": "execute_result"
    }
   ],
   "source": [
    "# Load configuration from config.ini\n",
    "config = ConfigParser()\n",
    "config.read('config.ini')"
   ]
  },
  {
   "cell_type": "code",
   "execution_count": 3,
   "metadata": {},
   "outputs": [],
   "source": [
    "# Retrieve text analytics connection settings from config.ini\n",
    "access_key = config.get('text-analytics', 'access_key')\n",
    "endpoint = config.get('text-analytics', 'endpoint')"
   ]
  },
  {
   "cell_type": "code",
   "execution_count": 4,
   "metadata": {},
   "outputs": [],
   "source": [
    "# Build a connection object to  Connect to SQL Server \n",
    "conn = pyodbc.connect(\"Driver={ODBC Driver 17 for SQL Server};\"\n",
    "                      \"Server=\" + config.get('database', 'server') + \";\"\n",
    "                      \"Database=\" + config.get('database', 'db_name') + \";\"\n",
    "                      \"UID=\" + config.get('database', 'user_name') + \";\"\n",
    "                      \"PWD=\" + config.get('database', 'user_password') + \";\"\n",
    "                      \"Trusted_Connection=no;\")"
   ]
  },
  {
   "cell_type": "code",
   "execution_count": 11,
   "metadata": {},
   "outputs": [],
   "source": [
    "# Build the query to retrieve documents from the database\n",
    "\n",
    "# The string below has the curly brackets {} that will be replaced by the batch size using \n",
    "# the query.format() when running the query\n",
    "\n",
    "query = \"select top ({}) \\\n",
    "    CONVERT(nvarchar(12), id) AS [id], \\\n",
    "    'en' AS language, \\\n",
    "    comments AS [text] \\\n",
    "    from dbo.reviews \\\n",
    "    where sentiment_score is null \\\n",
    "    order by id asc\"\n",
    "\n",
    "batch_size = 7"
   ]
  },
  {
   "cell_type": "code",
   "execution_count": 12,
   "metadata": {},
   "outputs": [],
   "source": [
    "# Connect, query, and create a dataframe with the results ( id, language, text )\n",
    "comments_df = pd.read_sql_query(query.format(batch_size), conn)"
   ]
  },
  {
   "cell_type": "code",
   "execution_count": 13,
   "metadata": {},
   "outputs": [],
   "source": [
    "# Authenticate Text Analytics Client\n",
    "credentials = CognitiveServicesCredentials(access_key)\n",
    "text_analytics = TextAnalyticsClient(endpoint=endpoint, credentials=credentials)"
   ]
  },
  {
   "cell_type": "code",
   "execution_count": 14,
   "metadata": {},
   "outputs": [],
   "source": [
    "# Converts the dataframe to a json string, then to a list of json docs (one item per row)\n",
    "documents = json.loads(comments_df.to_json(orient=\"records\"))\n",
    "# List of JSON docs looks like this: [ {...} , {...} ]"
   ]
  },
  {
   "cell_type": "code",
   "execution_count": 15,
   "metadata": {},
   "outputs": [],
   "source": [
    "# Call the sentiment cognitive services\n",
    "response = text_analytics.sentiment(documents=documents)"
   ]
  },
  {
   "cell_type": "code",
   "execution_count": 16,
   "metadata": {},
   "outputs": [
    {
     "name": "stdout",
     "output_type": "stream",
     "text": [
      "Document Id:  18219329 , Sentiment Score:  0.85\n",
      "Document Id:  18805710 , Sentiment Score:  0.93\n",
      "Document Id:  19377840 , Sentiment Score:  0.91\n",
      "Document Id:  19441162 , Sentiment Score:  0.92\n",
      "Document Id:  19506534 , Sentiment Score:  0.25\n"
     ]
    }
   ],
   "source": [
    "# Display the results\n",
    "for document in response.documents:\n",
    "    print(\"Document Id: \", document.id, \", Sentiment Score: \",\n",
    "        \"{:.2f}\".format(document.score))"
   ]
  }
 ],
 "metadata": {
  "kernelspec": {
   "display_name": "Python 3",
   "language": "python",
   "name": "python3"
  },
  "language_info": {
   "codemirror_mode": {
    "name": "ipython",
    "version": 3
   },
   "file_extension": ".py",
   "mimetype": "text/x-python",
   "name": "python",
   "nbconvert_exporter": "python",
   "pygments_lexer": "ipython3",
   "version": "3.6.2"
  }
 },
 "nbformat": 4,
 "nbformat_minor": 2
}
