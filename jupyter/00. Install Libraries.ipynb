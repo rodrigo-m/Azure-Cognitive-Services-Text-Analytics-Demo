{
 "cells": [
  {
   "cell_type": "markdown",
   "metadata": {},
   "source": [
    "Upgrade the installer pip first"
   ]
  },
  {
   "cell_type": "code",
   "execution_count": 1,
   "metadata": {},
   "outputs": [
    {
     "name": "stdout",
     "output_type": "stream",
     "text": [
      "Collecting pip\n",
      "  Downloading https://files.pythonhosted.org/packages/30/db/9e38760b32e3e7f40cce46dd5fb107b8c73840df38f0046d8e6514e675a1/pip-19.2.3-py2.py3-none-any.whl (1.4MB)\n",
      "\u001b[K    100% |████████████████████████████████| 1.4MB 853kB/s eta 0:00:01\n",
      "\u001b[?25hInstalling collected packages: pip\n",
      "  Found existing installation: pip 9.0.1\n",
      "    Uninstalling pip-9.0.1:\n",
      "      Successfully uninstalled pip-9.0.1\n",
      "Successfully installed pip-19.2.3\n"
     ]
    }
   ],
   "source": [
    "!pip install --upgrade pip"
   ]
  },
  {
   "cell_type": "markdown",
   "metadata": {},
   "source": [
    "Install the Cognitive Services Python SDK"
   ]
  },
  {
   "cell_type": "code",
   "execution_count": 2,
   "metadata": {},
   "outputs": [
    {
     "name": "stdout",
     "output_type": "stream",
     "text": [
      "Collecting azure-cognitiveservices-language-textanalytics\n",
      "\u001b[?25l  Downloading https://files.pythonhosted.org/packages/95/4d/d263a0aaf46f599f218d0e103f10b28e38de2d2c255358485a71a0cd8106/azure_cognitiveservices_language_textanalytics-0.2.0-py2.py3-none-any.whl (43kB)\n",
      "\u001b[K     |████████████████████████████████| 51kB 10.7MB/s eta 0:00:01\n",
      "\u001b[?25hRequirement already satisfied: msrest>=0.5.0 in /anaconda/envs/azureml_py36/lib/python3.6/site-packages (from azure-cognitiveservices-language-textanalytics) (0.6.10)\n",
      "Requirement already satisfied: azure-common~=1.1 in /anaconda/envs/azureml_py36/lib/python3.6/site-packages (from azure-cognitiveservices-language-textanalytics) (1.1.23)\n",
      "Requirement already satisfied: requests~=2.16 in /anaconda/envs/azureml_py36/lib/python3.6/site-packages (from msrest>=0.5.0->azure-cognitiveservices-language-textanalytics) (2.22.0)\n",
      "Requirement already satisfied: isodate>=0.6.0 in /anaconda/envs/azureml_py36/lib/python3.6/site-packages (from msrest>=0.5.0->azure-cognitiveservices-language-textanalytics) (0.6.0)\n",
      "Requirement already satisfied: requests-oauthlib>=0.5.0 in /anaconda/envs/azureml_py36/lib/python3.6/site-packages (from msrest>=0.5.0->azure-cognitiveservices-language-textanalytics) (1.2.0)\n",
      "Requirement already satisfied: certifi>=2017.4.17 in /anaconda/envs/azureml_py36/lib/python3.6/site-packages (from msrest>=0.5.0->azure-cognitiveservices-language-textanalytics) (2019.9.11)\n",
      "Requirement already satisfied: chardet<3.1.0,>=3.0.2 in /anaconda/envs/azureml_py36/lib/python3.6/site-packages (from requests~=2.16->msrest>=0.5.0->azure-cognitiveservices-language-textanalytics) (3.0.4)\n",
      "Requirement already satisfied: idna<2.9,>=2.5 in /anaconda/envs/azureml_py36/lib/python3.6/site-packages (from requests~=2.16->msrest>=0.5.0->azure-cognitiveservices-language-textanalytics) (2.8)\n",
      "Requirement already satisfied: urllib3!=1.25.0,!=1.25.1,<1.26,>=1.21.1 in /anaconda/envs/azureml_py36/lib/python3.6/site-packages (from requests~=2.16->msrest>=0.5.0->azure-cognitiveservices-language-textanalytics) (1.25.3)\n",
      "Requirement already satisfied: six in /anaconda/envs/azureml_py36/lib/python3.6/site-packages (from isodate>=0.6.0->msrest>=0.5.0->azure-cognitiveservices-language-textanalytics) (1.12.0)\n",
      "Requirement already satisfied: oauthlib>=3.0.0 in /anaconda/envs/azureml_py36/lib/python3.6/site-packages (from requests-oauthlib>=0.5.0->msrest>=0.5.0->azure-cognitiveservices-language-textanalytics) (3.1.0)\n",
      "Installing collected packages: azure-cognitiveservices-language-textanalytics\n",
      "Successfully installed azure-cognitiveservices-language-textanalytics-0.2.0\n"
     ]
    }
   ],
   "source": [
    "!pip install azure-cognitiveservices-language-textanalytics"
   ]
  },
  {
   "cell_type": "markdown",
   "metadata": {},
   "source": [
    "Install the ODBC Driver for SQL Server. Works with Azure SQL."
   ]
  },
  {
   "cell_type": "code",
   "execution_count": 3,
   "metadata": {},
   "outputs": [
    {
     "name": "stdout",
     "output_type": "stream",
     "text": [
      "Reading package lists... Done\n",
      "Building dependency tree       \n",
      "Reading state information... Done\n",
      "The following additional packages will be installed:\n",
      "  libodbc1 odbcinst odbcinst1debian2 unixodbc\n",
      "Suggested packages:\n",
      "  unixodbc-bin\n",
      "The following NEW packages will be installed:\n",
      "  libodbc1 msodbcsql17 odbcinst odbcinst1debian2 unixodbc\n",
      "0 upgraded, 5 newly installed, 0 to remove and 11 not upgraded.\n",
      "Need to get 1,426 kB of archives.\n",
      "After this operation, 1,059 kB of additional disk space will be used.\n",
      "Get:1 https://packages.microsoft.com/ubuntu/16.04/prod xenial/main amd64 libodbc1 amd64 2.3.7 [511 kB]\n",
      "Get:2 https://packages.microsoft.com/ubuntu/16.04/prod xenial/main amd64 odbcinst amd64 2.3.7 [12.0 kB]\n",
      "Get:3 https://packages.microsoft.com/ubuntu/16.04/prod xenial/main amd64 odbcinst1debian2 amd64 2.3.7 [135 kB]\n",
      "Get:4 https://packages.microsoft.com/ubuntu/16.04/prod xenial/main amd64 unixodbc amd64 2.3.7 [19.6 kB]\n",
      "Get:5 https://packages.microsoft.com/ubuntu/16.04/prod xenial/main amd64 msodbcsql17 amd64 17.4.1.1-1 [750 kB]\n",
      "Fetched 1,426 kB in 0s (6,281 kB/s)\n",
      "Preconfiguring packages ...\n",
      "Selecting previously unselected package libodbc1:amd64.\n",
      "(Reading database ... 159925 files and directories currently installed.)\n",
      "Preparing to unpack .../libodbc1_2.3.7_amd64.deb ...\n",
      "Unpacking libodbc1:amd64 (2.3.7) ...\n",
      "Selecting previously unselected package odbcinst.\n",
      "Preparing to unpack .../odbcinst_2.3.7_amd64.deb ...\n",
      "Unpacking odbcinst (2.3.7) ...\n",
      "Selecting previously unselected package odbcinst1debian2:amd64.\n",
      "Preparing to unpack .../odbcinst1debian2_2.3.7_amd64.deb ...\n",
      "Unpacking odbcinst1debian2:amd64 (2.3.7) ...\n",
      "Selecting previously unselected package unixodbc.\n",
      "Preparing to unpack .../unixodbc_2.3.7_amd64.deb ...\n",
      "Unpacking unixodbc (2.3.7) ...\n",
      "Selecting previously unselected package msodbcsql17.\n",
      "Preparing to unpack .../msodbcsql17_17.4.1.1-1_amd64.deb ...\n",
      "Unpacking msodbcsql17 (17.4.1.1-1) ...\n",
      "Processing triggers for man-db (2.7.5-1) ...\n",
      "Setting up libodbc1:amd64 (2.3.7) ...\n",
      "Setting up odbcinst1debian2:amd64 (2.3.7) ...\n",
      "Setting up unixodbc (2.3.7) ...\n",
      "Setting up msodbcsql17 (17.4.1.1-1) ...\n",
      "Setting up odbcinst (2.3.7) ...\n",
      "Processing triggers for libc-bin (2.23-0ubuntu11) ...\n"
     ]
    }
   ],
   "source": [
    "!sudo ACCEPT_EULA=Y apt-get -y install msodbcsql17"
   ]
  },
  {
   "cell_type": "markdown",
   "metadata": {},
   "source": [
    "Install additional libraries. AutoML Kernels have the ones below so no need. "
   ]
  },
  {
   "cell_type": "code",
   "execution_count": 1,
   "metadata": {},
   "outputs": [
    {
     "name": "stdout",
     "output_type": "stream",
     "text": [
      "Requirement already satisfied: pyodbc in /anaconda/envs/azureml_py36/lib/python3.6/site-packages (4.0.17)\r\n"
     ]
    }
   ],
   "source": [
    "!pip install pyodbc"
   ]
  }
 ],
 "metadata": {
  "kernelspec": {
   "display_name": "Python 3",
   "language": "python",
   "name": "python3"
  },
  "language_info": {
   "codemirror_mode": {
    "name": "ipython",
    "version": 3
   },
   "file_extension": ".py",
   "mimetype": "text/x-python",
   "name": "python",
   "nbconvert_exporter": "python",
   "pygments_lexer": "ipython3",
   "version": "3.6.2"
  },
  "nteract": {
   "version": "nteract-front-end@1.0.0"
  }
 },
 "nbformat": 4,
 "nbformat_minor": 2
}
