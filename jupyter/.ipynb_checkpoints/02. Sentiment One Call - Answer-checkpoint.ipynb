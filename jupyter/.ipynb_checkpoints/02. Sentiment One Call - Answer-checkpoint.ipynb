{
 "cells": [
  {
   "cell_type": "code",
   "execution_count": null,
   "metadata": {},
   "outputs": [],
   "source": [
    "from azure.cognitiveservices.language.textanalytics import TextAnalyticsClient\n",
    "from msrest.authentication import CognitiveServicesCredentials\n",
    "from configparser import ConfigParser\n",
    "\n",
    "# Load configuration from config.ini \n",
    "config = ConfigParser()\n",
    "config.read('config.ini')\n",
    "\n",
    "# Retrieve connection settings from config.ini\n",
    "access_key = config.get('text-analytics', 'access_key')\n",
    "endpoint = config.get('text-analytics', 'endpoint')\n",
    "\n",
    "# Use access key as credential\n",
    "credentials = CognitiveServicesCredentials(access_key)\n",
    "\n",
    "# Authenticate Client\n",
    "text_analytics = TextAnalyticsClient(endpoint=endpoint, credentials=credentials)\n",
    "\n"
   ]
  },
  {
   "cell_type": "code",
   "execution_count": null,
   "metadata": {},
   "outputs": [],
   "source": [
    "# Build input documents\n",
    "documents = [\n",
    "    {\n",
    "        \"id\": \"1\",\n",
    "        \"language\": \"en\",\n",
    "        \"text\": \"I had the best day of my life.\"\n",
    "    },\n",
    "    {\n",
    "        \"id\": \"2\",\n",
    "        \"language\": \"en\",\n",
    "        \"text\": \"I had the worst day in my existence.\"\n",
    "    }  \n",
    "]"
   ]
  },
  {
   "cell_type": "code",
   "execution_count": null,
   "metadata": {},
   "outputs": [],
   "source": [
    "# Call the Cognitive Service\n",
    "response = text_analytics.sentiment(documents=documents)"
   ]
  },
  {
   "cell_type": "code",
   "execution_count": null,
   "metadata": {},
   "outputs": [],
   "source": [
    "#Display the results\n",
    "for document in response.documents:\n",
    "    print(\"Document Id: \", document.id, \", Sentiment Score: \",\n",
    "          \"{:.2f}\".format(document.score))"
   ]
  },
  {
   "cell_type": "code",
   "execution_count": null,
   "metadata": {},
   "outputs": [],
   "source": []
  }
 ],
 "metadata": {
  "kernelspec": {
   "display_name": "Python 3.6 - AzureML",
   "language": "python",
   "name": "python3-azureml"
  },
  "language_info": {
   "codemirror_mode": {
    "name": "ipython",
    "version": 3
   },
   "file_extension": ".py",
   "mimetype": "text/x-python",
   "name": "python",
   "nbconvert_exporter": "python",
   "pygments_lexer": "ipython3",
   "version": "3.6.9"
  }
 },
 "nbformat": 4,
 "nbformat_minor": 2
}
