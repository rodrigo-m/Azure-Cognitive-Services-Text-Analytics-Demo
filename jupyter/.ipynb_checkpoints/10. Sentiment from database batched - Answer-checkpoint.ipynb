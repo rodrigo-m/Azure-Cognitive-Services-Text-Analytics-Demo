{
 "cells": [
  {
   "cell_type": "code",
   "execution_count": null,
   "metadata": {},
   "outputs": [],
   "source": [
    "# To Connect with SQL Server \n",
    "import pyodbc \n",
    "import pandas as pd\n",
    "import json\n",
    "\n",
    "# Cognitive Services Text Analytics SDK\n",
    "from azure.cognitiveservices.language.textanalytics import TextAnalyticsClient\n",
    "from msrest.authentication import CognitiveServicesCredentials\n",
    "from configparser import ConfigParser"
   ]
  },
  {
   "cell_type": "code",
   "execution_count": null,
   "metadata": {},
   "outputs": [],
   "source": [
    "# Load configuration from config.ini\n",
    "config = ConfigParser()\n",
    "config.read('config.ini')"
   ]
  },
  {
   "cell_type": "code",
   "execution_count": null,
   "metadata": {},
   "outputs": [],
   "source": [
    "# Retrieve connection settings from config.ini\n",
    "access_key = config.get('text-analytics', 'access_key')\n",
    "endpoint = config.get('text-analytics', 'endpoint')"
   ]
  },
  {
   "cell_type": "code",
   "execution_count": null,
   "metadata": {},
   "outputs": [],
   "source": [
    "# Connect to SQL Server\n",
    "conn = pyodbc.connect(\"Driver={ODBC Driver 17 for SQL Server};\"\n",
    "                      \"Server=\" + config.get('database', 'server') + \";\"\n",
    "                      \"Database=\" + config.get('database', 'db_name') + \";\"\n",
    "                      \"UID=\" + config.get('database', 'user_name') + \";\"\n",
    "                      \"PWD=\" + config.get('database', 'user_password') + \";\"\n",
    "                      \"Trusted_Connection=no;\")"
   ]
  },
  {
   "cell_type": "code",
   "execution_count": null,
   "metadata": {},
   "outputs": [],
   "source": [
    "batch_size = 5\n",
    "last_id = 0\n",
    "max_id = 0\n",
    "\n",
    "# Get the maximum id of the table to scan\n",
    "max_id_query = \"select max(id) as max_id from dbo.reviews\"\n",
    "comments_max_id_df = pd.read_sql_query(max_id_query, conn)\n",
    "max_id = comments_max_id_df['max_id'].max()\n",
    "print(\"max_id is \" + str(max_id))"
   ]
  },
  {
   "cell_type": "code",
   "execution_count": null,
   "metadata": {},
   "outputs": [],
   "source": [
    "next_batch_query = \"select top ({}) \\\n",
    "    CONVERT(nvarchar(12), id) AS [id], \\\n",
    "    'en' AS language, \\\n",
    "    comments AS [text] \\\n",
    "    from dbo.reviews \\\n",
    "    where id >  {} \\\n",
    "    and sentiment_score is null \\\n",
    "    order by id asc\""
   ]
  },
  {
   "cell_type": "code",
   "execution_count": null,
   "metadata": {},
   "outputs": [],
   "source": [
    "# Authenticate Text Analytics Client\n",
    "credentials = CognitiveServicesCredentials(access_key)\n",
    "text_analytics = TextAnalyticsClient(endpoint=endpoint, credentials=credentials)"
   ]
  },
  {
   "cell_type": "code",
   "execution_count": null,
   "metadata": {},
   "outputs": [],
   "source": [
    "while (last_id <= max_id ):\n",
    "\n",
    "    print (\"processing last_id \" + str(last_id))\n",
    "\n",
    "    # Get the next batch of comments as a dataframe with id, language, text\n",
    "    comments_df = pd.read_sql_query(\n",
    "    next_batch_query.format(batch_size, last_id)\n",
    "    , conn)\n",
    "\n",
    "    # Converts the dataframe to a json string, then to a list of json docs (one item per row)\n",
    "    documents = json.loads(comments_df.to_json(orient=\"records\"))\n",
    "    \n",
    "    # Call the sentiment cognitive services\n",
    "    response = text_analytics.sentiment(documents=documents)\n",
    "    for document in response.documents:\n",
    "        cursor = conn.cursor()\n",
    "        cursor.execute(\"UPDATE dbo.reviews SET sentiment_score = ? WHERE id = ?\", document.score, document.id)\n",
    "        \n",
    "    conn.commit()\n",
    "    \n",
    "    # get the maximum id processed in this batch\n",
    "    last_id = int(comments_df['id'].max())"
   ]
  }
 ],
 "metadata": {
  "kernelspec": {
   "display_name": "Python 3.6 - AzureML",
   "language": "python",
   "name": "python3-azureml"
  },
  "language_info": {
   "codemirror_mode": {
    "name": "ipython",
    "version": 3
   },
   "file_extension": ".py",
   "mimetype": "text/x-python",
   "name": "python",
   "nbconvert_exporter": "python",
   "pygments_lexer": "ipython3",
   "version": "3.6.9"
  }
 },
 "nbformat": 4,
 "nbformat_minor": 2
}
