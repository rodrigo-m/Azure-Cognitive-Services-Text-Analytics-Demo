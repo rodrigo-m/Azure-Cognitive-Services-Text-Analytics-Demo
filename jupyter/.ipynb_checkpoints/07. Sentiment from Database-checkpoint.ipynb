{
 "cells": [
  {
   "cell_type": "code",
   "execution_count": null,
   "metadata": {},
   "outputs": [],
   "source": [
    "import pyodbc \n",
    "import pandas as pd\n",
    "import json\n",
    "\n",
    "# Cognitive Services Text Analytics SDK \n",
    "from azure.cognitiveservices.language.textanalytics import TextAnalyticsClient\n",
    "from msrest.authentication import CognitiveServicesCredentials\n",
    "from configparser import ConfigParser"
   ]
  },
  {
   "cell_type": "code",
   "execution_count": null,
   "metadata": {},
   "outputs": [],
   "source": [
    "# Load configuration from config.ini\n",
    "config = ConfigParser()\n",
    "config.read('config.ini')"
   ]
  },
  {
   "cell_type": "code",
   "execution_count": null,
   "metadata": {},
   "outputs": [],
   "source": [
    "# Retrieve text analytics connection settings from config.ini\n",
    "access_key = config.get('text-analytics', 'access_key')\n",
    "endpoint = config.get('text-analytics', 'endpoint')"
   ]
  },
  {
   "cell_type": "code",
   "execution_count": null,
   "metadata": {},
   "outputs": [],
   "source": [
    "# Build a connection object to  Connect to SQL Server \n",
    "conn = pyodbc.connect(\"Driver={ODBC Driver 17 for SQL Server};\"\n",
    "                      \"Server=\" + config.get('database', 'server') + \";\"\n",
    "                      \"Database=\" + config.get('database', 'db_name') + \";\"\n",
    "                      \"UID=\" + config.get('database', 'user_name') + \";\"\n",
    "                      \"PWD=\" + config.get('database', 'user_password') + \";\"\n",
    "                      \"Trusted_Connection=no;\")"
   ]
  },
  {
   "cell_type": "code",
   "execution_count": null,
   "metadata": {},
   "outputs": [],
   "source": [
    "# Build the query to retrieve documents from the database\n",
    "\n",
    "# TODO: try the script with the query below, which will get 5 records. If it works, modify  \n",
    "#       the query so that (1) it selects only records that have a NULL sentiment_score \n",
    "#       and (2) the number of records sent to the text analytics service is controlled \n",
    "#       by a variable. \n",
    "\n",
    "\n",
    "query = \"select top (5) \\\n",
    "    CONVERT(nvarchar(12), id) AS [id], \\\n",
    "    'en' AS language, \\\n",
    "    comments AS [text] \\\n",
    "    from dbo.reviews \\\n",
    "    order by id asc\"\n",
    "\n"
   ]
  },
  {
   "cell_type": "code",
   "execution_count": null,
   "metadata": {},
   "outputs": [],
   "source": [
    "# Connect, query, and create a dataframe with the results ( id, language, text )\n",
    "comments_df = pd.read_sql_query(query, conn)"
   ]
  },
  {
   "cell_type": "code",
   "execution_count": null,
   "metadata": {},
   "outputs": [],
   "source": [
    "# Authenticate Text Analytics Client\n",
    "credentials = CognitiveServicesCredentials(access_key)\n",
    "text_analytics = TextAnalyticsClient(endpoint=endpoint, credentials=credentials)"
   ]
  },
  {
   "cell_type": "code",
   "execution_count": null,
   "metadata": {},
   "outputs": [],
   "source": [
    "# Converts the dataframe to a json string, then to a list of json docs (one item per row)\n",
    "documents = json.loads(comments_df.to_json(orient=\"records\"))\n",
    "# List of JSON docs looks like this: [ {...} , {...} ]"
   ]
  },
  {
   "cell_type": "code",
   "execution_count": null,
   "metadata": {},
   "outputs": [],
   "source": [
    "# Call the sentiment cognitive services\n",
    "response = text_analytics.sentiment(documents=documents)"
   ]
  },
  {
   "cell_type": "code",
   "execution_count": null,
   "metadata": {},
   "outputs": [],
   "source": [
    "# Display the results\n",
    "for document in response.documents:\n",
    "    print(\"Document Id: \", document.id, \", Sentiment Score: \",\n",
    "        \"{:.2f}\".format(document.score))"
   ]
  }
 ],
 "metadata": {
  "kernelspec": {
   "display_name": "Python 3",
   "language": "python",
   "name": "python3"
  },
  "language_info": {
   "codemirror_mode": {
    "name": "ipython",
    "version": 3
   },
   "file_extension": ".py",
   "mimetype": "text/x-python",
   "name": "python",
   "nbconvert_exporter": "python",
   "pygments_lexer": "ipython3",
   "version": "3.6.9"
  }
 },
 "nbformat": 4,
 "nbformat_minor": 2
}
